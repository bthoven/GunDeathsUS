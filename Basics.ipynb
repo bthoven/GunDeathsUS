{
 "cells": [
  {
   "cell_type": "markdown",
   "metadata": {},
   "source": [
    "# Exploring Gun Deaths in the US"
   ]
  },
  {
   "cell_type": "markdown",
   "metadata": {},
   "source": [
    "### Introducing US Gun Deaths Data"
   ]
  },
  {
   "cell_type": "code",
   "execution_count": 1,
   "metadata": {
    "collapsed": false
   },
   "outputs": [
    {
     "data": {
      "text/plain": [
       "[['',\n",
       "  'year',\n",
       "  'month',\n",
       "  'intent',\n",
       "  'police',\n",
       "  'sex',\n",
       "  'age',\n",
       "  'race',\n",
       "  'hispanic',\n",
       "  'place',\n",
       "  'education'],\n",
       " ['1',\n",
       "  '2012',\n",
       "  '01',\n",
       "  'Suicide',\n",
       "  '0',\n",
       "  'M',\n",
       "  '34',\n",
       "  'Asian/Pacific Islander',\n",
       "  '100',\n",
       "  'Home',\n",
       "  '4'],\n",
       " ['2', '2012', '01', 'Suicide', '0', 'F', '21', 'White', '100', 'Street', '3'],\n",
       " ['3',\n",
       "  '2012',\n",
       "  '01',\n",
       "  'Suicide',\n",
       "  '0',\n",
       "  'M',\n",
       "  '60',\n",
       "  'White',\n",
       "  '100',\n",
       "  'Other specified',\n",
       "  '4'],\n",
       " ['4', '2012', '02', 'Suicide', '0', 'M', '64', 'White', '100', 'Home', '4']]"
      ]
     },
     "execution_count": 1,
     "metadata": {},
     "output_type": "execute_result"
    }
   ],
   "source": [
    "import csv\n",
    "\n",
    "f = open(\"guns.csv\", \"r\")\n",
    "data = list(csv.reader(f))\n",
    "data[:5]"
   ]
  },
  {
   "cell_type": "markdown",
   "metadata": {},
   "source": [
    "### Removing Headers From A List Of Lists"
   ]
  },
  {
   "cell_type": "code",
   "execution_count": 2,
   "metadata": {
    "collapsed": false
   },
   "outputs": [
    {
     "name": "stdout",
     "output_type": "stream",
     "text": [
      "['', 'year', 'month', 'intent', 'police', 'sex', 'age', 'race', 'hispanic', 'place', 'education']\n",
      "\n",
      "[['1', '2012', '01', 'Suicide', '0', 'M', '34', 'Asian/Pacific Islander', '100', 'Home', '4'], ['2', '2012', '01', 'Suicide', '0', 'F', '21', 'White', '100', 'Street', '3'], ['3', '2012', '01', 'Suicide', '0', 'M', '60', 'White', '100', 'Other specified', '4'], ['4', '2012', '02', 'Suicide', '0', 'M', '64', 'White', '100', 'Home', '4'], ['5', '2012', '02', 'Suicide', '0', 'M', '31', 'White', '100', 'Other specified', '2']]\n"
     ]
    }
   ],
   "source": [
    "headers = data[0]\n",
    "data = data[1:]\n",
    "\n",
    "print(headers)\n",
    "print()\n",
    "print(data[:5])"
   ]
  },
  {
   "cell_type": "markdown",
   "metadata": {},
   "source": [
    "### Counting Gun Deaths By Year"
   ]
  },
  {
   "cell_type": "code",
   "execution_count": 3,
   "metadata": {
    "collapsed": false
   },
   "outputs": [
    {
     "data": {
      "text/plain": [
       "{'2012': 33563, '2013': 33636, '2014': 33599}"
      ]
     },
     "execution_count": 3,
     "metadata": {},
     "output_type": "execute_result"
    }
   ],
   "source": [
    "years = [row[1] for row in data]\n",
    "\n",
    "year_counts = {}\n",
    "\n",
    "for year in years:\n",
    "    if year in year_counts:\n",
    "        year_counts[year] += 1\n",
    "    else:\n",
    "        year_counts[year] = 1\n",
    "\n",
    "year_counts"
   ]
  },
  {
   "cell_type": "markdown",
   "metadata": {},
   "source": [
    "### Exploring Gun Deaths By Month And Year"
   ]
  },
  {
   "cell_type": "code",
   "execution_count": 4,
   "metadata": {
    "collapsed": false
   },
   "outputs": [
    {
     "data": {
      "text/plain": [
       "{'2012-1': 2758,\n",
       " '2012-10': 2733,\n",
       " '2012-11': 2729,\n",
       " '2012-12': 2791,\n",
       " '2012-2': 2357,\n",
       " '2012-3': 2743,\n",
       " '2012-4': 2795,\n",
       " '2012-5': 2999,\n",
       " '2012-6': 2826,\n",
       " '2012-7': 3026,\n",
       " '2012-8': 2954,\n",
       " '2012-9': 2852,\n",
       " '2013-1': 2864,\n",
       " '2013-10': 2808,\n",
       " '2013-11': 2758,\n",
       " '2013-12': 2765,\n",
       " '2013-2': 2375,\n",
       " '2013-3': 2862,\n",
       " '2013-4': 2798,\n",
       " '2013-5': 2806,\n",
       " '2013-6': 2920,\n",
       " '2013-7': 3079,\n",
       " '2013-8': 2859,\n",
       " '2013-9': 2742,\n",
       " '2014-1': 2651,\n",
       " '2014-10': 2865,\n",
       " '2014-11': 2756,\n",
       " '2014-12': 2857,\n",
       " '2014-2': 2361,\n",
       " '2014-3': 2684,\n",
       " '2014-4': 2862,\n",
       " '2014-5': 2864,\n",
       " '2014-6': 2931,\n",
       " '2014-7': 2884,\n",
       " '2014-8': 2970,\n",
       " '2014-9': 2914}"
      ]
     },
     "execution_count": 4,
     "metadata": {},
     "output_type": "execute_result"
    }
   ],
   "source": [
    "import datetime as dt\n",
    "\n",
    "dates = [dt.datetime(year=int(row[1]), month=int(row[2]), day=1) for row in data]\n",
    "dates[:5]\n",
    "\n",
    "date_counts = {}\n",
    "\n",
    "for date in dates:\n",
    "    date_str = str(date.year) + \"-\" + str(date.month)\n",
    "    if date_str in date_counts:\n",
    "        date_counts[date_str] += 1\n",
    "    else:\n",
    "        date_counts[date_str] = 1\n",
    "\n",
    "date_counts"
   ]
  },
  {
   "cell_type": "markdown",
   "metadata": {},
   "source": [
    "### Exploring Gun Deaths By Race And Sex"
   ]
  },
  {
   "cell_type": "code",
   "execution_count": 5,
   "metadata": {
    "collapsed": false
   },
   "outputs": [
    {
     "data": {
      "text/plain": [
       "{'F': 14449, 'M': 86349}"
      ]
     },
     "execution_count": 5,
     "metadata": {},
     "output_type": "execute_result"
    }
   ],
   "source": [
    "sex_list = [row[5] for row in data]\n",
    "\n",
    "sex_counts = {}\n",
    "\n",
    "for sex in sex_list:\n",
    "    if sex in sex_counts:\n",
    "        sex_counts[sex] += 1\n",
    "    else:\n",
    "        sex_counts[sex] = 1\n",
    "\n",
    "sex_counts"
   ]
  },
  {
   "cell_type": "code",
   "execution_count": 6,
   "metadata": {
    "collapsed": false
   },
   "outputs": [
    {
     "data": {
      "text/plain": [
       "{'Asian/Pacific Islander': 1326,\n",
       " 'Black': 23296,\n",
       " 'Hispanic': 9022,\n",
       " 'Native American/Native Alaskan': 917,\n",
       " 'White': 66237}"
      ]
     },
     "execution_count": 6,
     "metadata": {},
     "output_type": "execute_result"
    }
   ],
   "source": [
    "race_list = [row[7] for row in data]\n",
    "\n",
    "race_counts = {}\n",
    "\n",
    "for race in race_list:\n",
    "    if race in race_counts:\n",
    "        race_counts[race] += 1\n",
    "    else:\n",
    "        race_counts[race] = 1\n",
    "\n",
    "race_counts"
   ]
  },
  {
   "cell_type": "markdown",
   "metadata": {},
   "source": [
    "### Reading In A Second Dataset"
   ]
  },
  {
   "cell_type": "code",
   "execution_count": 7,
   "metadata": {
    "collapsed": false
   },
   "outputs": [
    {
     "data": {
      "text/plain": [
       "[['Id',\n",
       "  'Year',\n",
       "  'Id',\n",
       "  'Sex',\n",
       "  'Id',\n",
       "  'Hispanic Origin',\n",
       "  'Id',\n",
       "  'Id2',\n",
       "  'Geography',\n",
       "  'Total',\n",
       "  'Race Alone - White',\n",
       "  'Race Alone - Hispanic',\n",
       "  'Race Alone - Black or African American',\n",
       "  'Race Alone - American Indian and Alaska Native',\n",
       "  'Race Alone - Asian',\n",
       "  'Race Alone - Native Hawaiian and Other Pacific Islander',\n",
       "  'Two or More Races'],\n",
       " ['cen42010',\n",
       "  'April 1, 2010 Census',\n",
       "  'totsex',\n",
       "  'Both Sexes',\n",
       "  'tothisp',\n",
       "  'Total',\n",
       "  '0100000US',\n",
       "  '',\n",
       "  'United States',\n",
       "  '308745538',\n",
       "  '197318956',\n",
       "  '44618105',\n",
       "  '40250635',\n",
       "  '3739506',\n",
       "  '15159516',\n",
       "  '674625',\n",
       "  '6984195']]"
      ]
     },
     "execution_count": 7,
     "metadata": {},
     "output_type": "execute_result"
    }
   ],
   "source": [
    "f = open(\"census.csv\", \"r\")\n",
    "census = list(csv.reader(f))\n",
    "census"
   ]
  },
  {
   "cell_type": "markdown",
   "metadata": {},
   "source": [
    "### Computing Rates Of Gun Deaths Per Race"
   ]
  },
  {
   "cell_type": "code",
   "execution_count": 16,
   "metadata": {
    "collapsed": false
   },
   "outputs": [
    {
     "data": {
      "text/plain": [
       "{'Asian/Pacific Islander': 15834141,\n",
       " 'Black': 40250635,\n",
       " 'Hispanic': 44618105,\n",
       " 'Native American/Native Alaskan': 3739506,\n",
       " 'White': 197318956}"
      ]
     },
     "execution_count": 16,
     "metadata": {},
     "output_type": "execute_result"
    }
   ],
   "source": [
    "correspondencies = [\n",
    "    (\"Asian/Pacific Islander\", [14, 15]),\n",
    "    (\"Black\", [12]),\n",
    "    (\"Hispanic\", [11]),\n",
    "    (\"Native American/Native Alaskan\", [13]),\n",
    "    (\"White\", [10]),\n",
    "]\n",
    "\n",
    "mapping = dict.fromkeys(race_counts.keys())\n",
    "for key, maps in correspondencies:\n",
    "    mapping[key] = sum([int(census[1][i]) for i in maps])\n",
    "\n",
    "mapping"
   ]
  },
  {
   "cell_type": "code",
   "execution_count": 17,
   "metadata": {
    "collapsed": false
   },
   "outputs": [
    {
     "data": {
      "text/plain": [
       "{'Asian/Pacific Islander': 8.374309664161762,\n",
       " 'Black': 57.877347773519595,\n",
       " 'Hispanic': 20.220491210910907,\n",
       " 'Native American/Native Alaskan': 24.521955573811088,\n",
       " 'White': 33.56849303419181}"
      ]
     },
     "execution_count": 17,
     "metadata": {},
     "output_type": "execute_result"
    }
   ],
   "source": [
    "race_per_hunderdk = {}\n",
    "\n",
    "for key in race_counts:\n",
    "    race_per_hunderdk[key] = 100000 * race_counts[key] / mapping[key]\n",
    "\n",
    "race_per_hunderdk"
   ]
  },
  {
   "cell_type": "markdown",
   "metadata": {},
   "source": [
    "### Filtering By Intent"
   ]
  },
  {
   "cell_type": "code",
   "execution_count": 22,
   "metadata": {
    "collapsed": false
   },
   "outputs": [],
   "source": [
    "intents = [row[3] for row in data]\n",
    "races = [row[7] for row in data]\n",
    "\n",
    "homicide_race_counts = {}"
   ]
  },
  {
   "cell_type": "code",
   "execution_count": 24,
   "metadata": {
    "collapsed": false
   },
   "outputs": [],
   "source": [
    "for i, race in enumerate(races):\n",
    "    if intents[i] == \"Homicide\":\n",
    "        if race in homicide_race_counts:\n",
    "            homicide_race_counts[race] += 1\n",
    "        else:\n",
    "            homicide_race_counts[race] = 1"
   ]
  },
  {
   "cell_type": "code",
   "execution_count": 25,
   "metadata": {
    "collapsed": false
   },
   "outputs": [
    {
     "data": {
      "text/plain": [
       "{'Asian/Pacific Islander': 7.0606924619403095,\n",
       " 'Black': 96.9425699743619,\n",
       " 'Hispanic': 25.254322208439824,\n",
       " 'Native American/Native Alaskan': 17.43545805248073,\n",
       " 'White': 9.271283596290667}"
      ]
     },
     "execution_count": 25,
     "metadata": {},
     "output_type": "execute_result"
    }
   ],
   "source": [
    "for key in homicide_race_counts:\n",
    "    homicide_race_counts[key] = 100000 * homicide_race_counts[key] / mapping[key]\n",
    "\n",
    "homicide_race_counts"
   ]
  },
  {
   "cell_type": "code",
   "execution_count": null,
   "metadata": {
    "collapsed": true
   },
   "outputs": [],
   "source": []
  }
 ],
 "metadata": {
  "kernelspec": {
   "display_name": "Python 3",
   "language": "python",
   "name": "python3"
  },
  "language_info": {
   "codemirror_mode": {
    "name": "ipython",
    "version": 3
   },
   "file_extension": ".py",
   "mimetype": "text/x-python",
   "name": "python",
   "nbconvert_exporter": "python",
   "pygments_lexer": "ipython3",
   "version": "3.4.3"
  }
 },
 "nbformat": 4,
 "nbformat_minor": 0
}
